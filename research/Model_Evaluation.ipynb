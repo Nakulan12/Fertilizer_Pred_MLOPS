{
 "cells": [
  {
   "cell_type": "code",
   "execution_count": 1,
   "metadata": {},
   "outputs": [
    {
     "data": {
      "text/plain": [
       "'d:\\\\Data Science\\\\END to END Proj\\\\Fertilizer_Pred_MLOPS\\\\research'"
      ]
     },
     "execution_count": 1,
     "metadata": {},
     "output_type": "execute_result"
    }
   ],
   "source": [
    "import os\n",
    "%pwd"
   ]
  },
  {
   "cell_type": "code",
   "execution_count": 2,
   "metadata": {},
   "outputs": [],
   "source": [
    "os.chdir(\"../\")"
   ]
  },
  {
   "cell_type": "code",
   "execution_count": 3,
   "metadata": {},
   "outputs": [
    {
     "data": {
      "text/html": [
       "<pre style=\"white-space:pre;overflow-x:auto;line-height:normal;font-family:Menlo,'DejaVu Sans Mono',consolas,'Courier New',monospace\">Accessing as gowtham-dd\n",
       "</pre>\n"
      ],
      "text/plain": [
       "Accessing as gowtham-dd\n"
      ]
     },
     "metadata": {},
     "output_type": "display_data"
    },
    {
     "data": {
      "text/html": [
       "<pre style=\"white-space:pre;overflow-x:auto;line-height:normal;font-family:Menlo,'DejaVu Sans Mono',consolas,'Courier New',monospace\">Initialized MLflow to track repo <span style=\"color: #008000; text-decoration-color: #008000\">\"gowtham-dd/Fertilizer_Pred_MLOPS\"</span>\n",
       "</pre>\n"
      ],
      "text/plain": [
       "Initialized MLflow to track repo \u001b[32m\"gowtham-dd/Fertilizer_Pred_MLOPS\"\u001b[0m\n"
      ]
     },
     "metadata": {},
     "output_type": "display_data"
    },
    {
     "data": {
      "text/html": [
       "<pre style=\"white-space:pre;overflow-x:auto;line-height:normal;font-family:Menlo,'DejaVu Sans Mono',consolas,'Courier New',monospace\">Repository gowtham-dd/Fertilizer_Pred_MLOPS initialized!\n",
       "</pre>\n"
      ],
      "text/plain": [
       "Repository gowtham-dd/Fertilizer_Pred_MLOPS initialized!\n"
      ]
     },
     "metadata": {},
     "output_type": "display_data"
    }
   ],
   "source": [
    "import dagshub\n",
    "dagshub.init(repo_owner='gowtham-dd', repo_name='Fertilizer_Pred_MLOPS', mlflow=True)\n",
    "\n",
    "import mlflow\n",
    "with mlflow.start_run():\n",
    "  mlflow.log_param('parameter name', 'value')\n",
    "  mlflow.log_metric('metric name', 1)"
   ]
  },
  {
   "cell_type": "code",
   "execution_count": 4,
   "metadata": {},
   "outputs": [],
   "source": [
    "from dataclasses import dataclass\n",
    "from pathlib import Path\n",
    "\n",
    "@dataclass(frozen=True)\n",
    "class ModelEvaluationConfig:\n",
    "    root_dir: Path\n",
    "    test_data_path: Path\n",
    "    model_dir: Path  # Directory containing xgb_fold0.bin, xgb_fold1.bin, etc.\n",
    "    metric_file_name: Path\n",
    "    target_column: str\n",
    "    mlflow_uri: str\n",
    "    label_encoder_path: Path\n",
    "    all_params: dict"
   ]
  },
  {
   "cell_type": "code",
   "execution_count": 5,
   "metadata": {},
   "outputs": [],
   "source": [
    "from src.Fertilizer_Pred.utils.common import read_yaml, create_directories\n",
    "from src.Fertilizer_Pred.constant import *\n",
    "from pathlib import Path\n",
    "\n",
    "class ConfigurationManager:\n",
    "    def __init__(self,\n",
    "                 config_filepath=CONFIG_FILE_PATH,\n",
    "                 params_filepath=PARAMS_FILE_PATH,\n",
    "                 schema_filepath=SCHEMA_FILE_PATH):\n",
    "        self.config = read_yaml(config_filepath)\n",
    "        self.params = read_yaml(params_filepath)\n",
    "        self.schema = read_yaml(schema_filepath)\n",
    "        create_directories([self.config.artifacts_root])\n",
    "\n",
    "    def get_model_evaluation_config(self) -> ModelEvaluationConfig:\n",
    "        config = self.config.model_evaluation\n",
    "        params = self.params.XGBoost  \n",
    "        return ModelEvaluationConfig(\n",
    "            root_dir=Path(config.root_dir),\n",
    "            test_data_path=Path(config.test_data_path),\n",
    "            model_dir=Path(config.model_dir),\n",
    "            metric_file_name=Path(config.metric_file_name),\n",
    "            target_column=self.schema.TARGET_COLUMN.name,\n",
    "            mlflow_uri=config.mlflow_uri,\n",
    "            label_encoder_path=Path(config.label_encoder_path),\n",
    "            all_params=params\n",
    "        )\n"
   ]
  },
  {
   "cell_type": "code",
   "execution_count": 6,
   "metadata": {},
   "outputs": [],
   "source": [
    "import json\n",
    "\n",
    "def save_json(path: Path, data: dict):\n",
    "    path.parent.mkdir(parents=True, exist_ok=True)\n",
    "    with open(path, 'w') as f:\n",
    "        json.dump(data, f, indent=4)\n",
    "\n"
   ]
  },
  {
   "cell_type": "code",
   "execution_count": 11,
   "metadata": {},
   "outputs": [],
   "source": [
    "import pandas as pd\n",
    "import numpy as np\n",
    "import xgboost as xgb\n",
    "import mlflow\n",
    "from urllib.parse import urlparse\n",
    "from sklearn.preprocessing import OrdinalEncoder\n",
    "from typing import List\n",
    "import joblib\n",
    "from pathlib import Path\n",
    "from src.Fertilizer_Pred.utils.common import save_json  # Adjust import to your actual utility location\n",
    "\n",
    "class ModelEvaluation:\n",
    "    def __init__(self, config):\n",
    "        self.config = config\n",
    "\n",
    "    def map_at_k(self, actual: np.ndarray, predicted: np.ndarray, k: int = 3) -> float:\n",
    "        total_score = 0.0\n",
    "        for true_idx, pred_top_k in zip(actual, predicted):\n",
    "            if true_idx in pred_top_k[:k]:\n",
    "                rank = np.where(pred_top_k[:k] == true_idx)[0][0] + 1\n",
    "                total_score += 1.0 / rank\n",
    "        return total_score / len(actual)\n",
    "\n",
    "    def _load_models(self) -> List[xgb.Booster]:\n",
    "        model_paths = list(self.config.model_dir.glob(\"xgb_fold*.bin\"))\n",
    "        models = []\n",
    "        for path in model_paths:\n",
    "            model = xgb.Booster()\n",
    "            model.load_model(str(path))\n",
    "            models.append(model)\n",
    "        return models\n",
    "\n",
    "    def evaluate_ensemble(self):\n",
    "        test_data = pd.read_csv(self.config.test_data_path)\n",
    "\n",
    "        # Load label encoder\n",
    "        label_encoder_path = self.config.label_encoder_path\n",
    "        if not label_encoder_path.exists():\n",
    "            raise FileNotFoundError(f\"Label encoder not found at: {label_encoder_path}\")\n",
    "        le = joblib.load(label_encoder_path)\n",
    "\n",
    "        # Extract X_test and optionally y_test\n",
    "        if self.config.target_column in test_data.columns:\n",
    "            y_test = test_data[self.config.target_column]\n",
    "            y_test_encoded = le.transform(y_test)\n",
    "            X_test = test_data.drop(columns=[self.config.target_column])\n",
    "        else:\n",
    "            y_test_encoded = None\n",
    "            X_test = test_data.copy()\n",
    "\n",
    "        # Ordinal encode object columns\n",
    "        obj_cols = X_test.select_dtypes(include='object').columns\n",
    "        if len(obj_cols) > 0:\n",
    "            X_test[obj_cols] = OrdinalEncoder().fit_transform(X_test[obj_cols])\n",
    "\n",
    "        dtest = xgb.DMatrix(X_test)\n",
    "\n",
    "        models = self._load_models()\n",
    "        pred_probs = np.mean([model.predict(dtest) for model in models], axis=0)\n",
    "        top3_preds = np.argsort(-pred_probs, axis=1)[:, :3]\n",
    "\n",
    "        if y_test_encoded is not None:\n",
    "            map3 = self.map_at_k(y_test_encoded, top3_preds)\n",
    "            acc = np.mean(y_test_encoded == top3_preds[:, 0])\n",
    "            return {\"MAP@3\": map3, \"accuracy\": acc}\n",
    "        else:\n",
    "            pred_labels = le.inverse_transform(np.argmax(pred_probs, axis=1))\n",
    "            pd.DataFrame(pred_labels, columns=[\"Predicted Fertilizer\"]).to_csv(\n",
    "                self.config.root_dir / \"predictions.csv\", index=False\n",
    "            )\n",
    "            return {\"status\": \"Prediction complete. Evaluation skipped (no true labels).\"}\n",
    "\n",
    "    def log_into_mlflow(self):\n",
    "        mlflow.set_tracking_uri(self.config.mlflow_uri)\n",
    "        tracking_url_type_store = urlparse(mlflow.get_tracking_uri()).scheme\n",
    "\n",
    "        with mlflow.start_run():\n",
    "            # Evaluation\n",
    "            metrics = self.evaluate_ensemble()\n",
    "            save_json(path=self.config.metric_file_name, data=metrics)\n",
    "\n",
    "            # Log hyperparameters\n",
    "            mlflow.log_params(self.config.all_params)\n",
    "\n",
    "            # Log metrics\n",
    "            for key, value in metrics.items():\n",
    "                try:\n",
    "                    mlflow.log_metric(key, float(value))\n",
    "                except Exception as e:\n",
    "                    print(f\"[MLflow] Failed to log metric {key}: {e}\")\n",
    "\n",
    "            # Log label encoder\n",
    "            if self.config.label_encoder_path.exists():\n",
    "                mlflow.log_artifact(str(self.config.label_encoder_path), artifact_path=\"label_encoder\")\n",
    "\n",
    "            # Log each model\n",
    "            if tracking_url_type_store != \"file\":\n",
    "                for i, model_path in enumerate(self.config.model_dir.glob(\"xgb_fold*.bin\")):\n",
    "                    booster_model = xgb.Booster()\n",
    "                    booster_model.load_model(str(model_path))\n",
    "\n",
    "                    mlflow.xgboost.log_model(\n",
    "                        xgb_model=booster_model,\n",
    "                        artifact_path=f\"model_fold_{i}\",\n",
    "                        registered_model_name=f\"XGBoost_Fertilizer_Fold_{i}\"\n",
    "                    )\n"
   ]
  },
  {
   "cell_type": "code",
   "execution_count": 12,
   "metadata": {},
   "outputs": [
    {
     "name": "stdout",
     "output_type": "stream",
     "text": [
      "[2025-07-10 15:12:14,657: INFO: common: yaml file: config\\config.yaml loaded successfully]\n",
      "[2025-07-10 15:12:14,660: INFO: common: yaml file: params.yaml loaded successfully]\n",
      "[2025-07-10 15:12:14,672: INFO: common: yaml file: schema.yaml loaded successfully]\n",
      "[2025-07-10 15:12:14,675: INFO: common: created directory at: artifacts]\n",
      "[2025-07-10 15:12:33,980: WARNING: connectionpool: Retrying (Retry(total=4, connect=5, read=4, redirect=5, status=5)) after connection broken by 'RemoteDisconnected('Remote end closed connection without response')': /gowtham-dd/Fertilizer_Pred_MLOPS.mlflow/api/2.0/mlflow/runs/create]\n",
      "[2025-07-10 15:20:39,584: INFO: common: json file saved at: artifacts\\model_evaluation\\metrics.json]\n",
      "[2025-07-10 15:21:51,560: WARNING: connectionpool: Retrying (Retry(total=4, connect=5, read=4, redirect=5, status=5)) after connection broken by 'RemoteDisconnected('Remote end closed connection without response')': /gowtham-dd/Fertilizer_Pred_MLOPS.mlflow/api/2.0/mlflow/runs/log-batch]\n",
      "[MLflow] Failed to log metric MAP@3: INVALID_PARAMETER_VALUE: Response: {'error_code': 'INVALID_PARAMETER_VALUE'}\n"
     ]
    },
    {
     "name": "stderr",
     "output_type": "stream",
     "text": [
      "d:\\Data Science\\END to END Proj\\Fertilizer_Pred_MLOPS\\venv\\Lib\\site-packages\\xgboost\\core.py:160: UserWarning: [15:21:54] WARNING: C:\\buildkite-agent\\builds\\buildkite-windows-cpu-autoscaling-group-i-0b3782d1791676daf-1\\xgboost\\xgboost-ci-windows\\src\\c_api\\c_api.cc:1240: Saving into deprecated binary model format, please consider using `json` or `ubj`. Model format will default to JSON in XGBoost 2.2 if not specified.\n",
      "  warnings.warn(smsg, UserWarning)\n",
      "d:\\Data Science\\END to END Proj\\Fertilizer_Pred_MLOPS\\venv\\Lib\\site-packages\\_distutils_hack\\__init__.py:33: UserWarning: Setuptools is replacing distutils.\n",
      "  warnings.warn(\"Setuptools is replacing distutils.\")\n",
      "Successfully registered model 'XGBoost_Fertilizer_Fold_0'.\n",
      "2025/07/10 15:24:34 INFO mlflow.tracking._model_registry.client: Waiting up to 300 seconds for model version to finish creation.                     Model name: XGBoost_Fertilizer_Fold_0, version 1\n",
      "Created version '1' of model 'XGBoost_Fertilizer_Fold_0'.\n",
      "d:\\Data Science\\END to END Proj\\Fertilizer_Pred_MLOPS\\venv\\Lib\\site-packages\\xgboost\\core.py:160: UserWarning: [15:24:34] WARNING: C:\\buildkite-agent\\builds\\buildkite-windows-cpu-autoscaling-group-i-0b3782d1791676daf-1\\xgboost\\xgboost-ci-windows\\src\\c_api\\c_api.cc:1240: Saving into deprecated binary model format, please consider using `json` or `ubj`. Model format will default to JSON in XGBoost 2.2 if not specified.\n",
      "  warnings.warn(smsg, UserWarning)\n",
      "Successfully registered model 'XGBoost_Fertilizer_Fold_1'.\n",
      "2025/07/10 15:28:15 INFO mlflow.tracking._model_registry.client: Waiting up to 300 seconds for model version to finish creation.                     Model name: XGBoost_Fertilizer_Fold_1, version 1\n",
      "Created version '1' of model 'XGBoost_Fertilizer_Fold_1'.\n"
     ]
    }
   ],
   "source": [
    "try:\n",
    "    # Initialize configuration manager\n",
    "    config = ConfigurationManager()\n",
    "    \n",
    "    # Get evaluation config\n",
    "    model_evaluation_config = config.get_model_evaluation_config()\n",
    "    \n",
    "    # Initialize and run model evaluation\n",
    "    model_evaluator = ModelEvaluation(config=model_evaluation_config)\n",
    "    model_evaluator.log_into_mlflow()\n",
    "\n",
    "except Exception as e:\n",
    "    raise e\n"
   ]
  }
 ],
 "metadata": {
  "kernelspec": {
   "display_name": "venv",
   "language": "python",
   "name": "python3"
  },
  "language_info": {
   "codemirror_mode": {
    "name": "ipython",
    "version": 3
   },
   "file_extension": ".py",
   "mimetype": "text/x-python",
   "name": "python",
   "nbconvert_exporter": "python",
   "pygments_lexer": "ipython3",
   "version": "3.11.1"
  }
 },
 "nbformat": 4,
 "nbformat_minor": 2
}
